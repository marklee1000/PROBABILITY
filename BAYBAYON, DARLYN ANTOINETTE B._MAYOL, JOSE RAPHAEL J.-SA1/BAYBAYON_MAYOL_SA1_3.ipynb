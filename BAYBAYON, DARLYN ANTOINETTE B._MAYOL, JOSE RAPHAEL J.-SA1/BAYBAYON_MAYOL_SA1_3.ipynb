{
 "cells": [
  {
   "cell_type": "markdown",
   "id": "122b8191",
   "metadata": {},
   "source": [
    "# Question 3\n",
    "By generating 10,000 searches, carry out a simulation experiment for a search engine going through a list of sites for a given key phrase, until the key phrase is found. You should allow your program to input the probability p that any site will contain the key phrase.\n",
    "\n",
    "- Plot the simulated pdf and calculate its mean and variance, and\n",
    "- Obtain the simulated conditional distribution of searches when three searches have been carried out without success. Calculate its mean and variance, and satisfy yourself that they are equivalent to the simulated distribution of the complete set.\n",
    "\n",
    "As test data assume each site has a 60% chance of containing the key phrase. To satisfy yourself that the Markov memoryless property holds, obtain estimates of\n",
    "\n",
    "P(X = 4|X > 3) and P(X = 1)\n",
    "\n",
    "P(X = 5|X > 3) and P(X = 2)\n",
    "\n",
    "where X is the number of searches to the first success\n"
   ]
  },
  {
   "cell_type": "code",
   "execution_count": 2,
   "id": "9b0b64a0",
   "metadata": {},
   "outputs": [],
   "source": [
    "from scipy.stats import geom\n",
    "import numpy as np\n",
    "import matplotlib.pyplot as plt"
   ]
  },
  {
   "cell_type": "markdown",
   "id": "e64883d3-bc1a-4755-9215-c8efb24a8650",
   "metadata": {},
   "source": [
    "#### Generate 10,000 searches"
   ]
  },
  {
   "cell_type": "code",
   "execution_count": 9,
   "id": "a55d5186",
   "metadata": {},
   "outputs": [
    {
     "name": "stdout",
     "output_type": "stream",
     "text": [
      "Enter probability parameter p = 0.6\n"
     ]
    },
    {
     "data": {
      "image/png": "[encoded data removed]",
      "text/plain": [
       "<Figure size 640x480 with 1 Axes>"
      ]
     },
     "metadata": {},
     "output_type": "display_data"
    }
   ],
   "source": [
    "p = float(input(f\"Enter probability parameter p = \"))\n",
    "\n",
    "# searches simulation\n",
    "searches = np.random.geometric(p,10000)\n",
    "# plot\n",
    "pdf = geom.pmf(searches, p)\n",
    "plt.bar(searches, pdf, color=\"pink\")\n",
    "plt.xlabel('No. of Searches until Success')\n",
    "plt.ylabel('Probability')\n",
    "plt.xticks(searches)\n",
    "plt.grid(axis='y', linestyle='-', alpha=0.7)\n",
    "plt.show()\n"
   ]
  },
  {
   "cell_type": "markdown",
   "id": "54cec397-270b-46e4-a0fc-6d657368412f",
   "metadata": {},
   "source": [
    "#### Mean and Variance"
   ]
  },
  {
   "cell_type": "code",
   "execution_count": 19,
   "id": "f3485c8a",
   "metadata": {},
   "outputs": [
    {
     "name": "stdout",
     "output_type": "stream",
     "text": [
      "Theoretical Mean: 1.67 \n",
      "Theoretical Variance: 1.11\n",
      "\n",
      "Mean: 1.65 \n",
      "Variance: 1.08\n"
     ]
    }
   ],
   "source": [
    "# mean and variance\n",
    "mean_theory = 1/p\n",
    "var_theory = (1-p)/p**2\n",
    "mean_searches = np.mean(searches)\n",
    "var_searches = np.var(searches)\n",
    "\n",
    "\n",
    "print(f\"Theoretical Mean: {round(mean_theory,2)} \\nTheoretical Variance: {round(var_theory,2)}\")\n",
    "print(f\"\\nMean: {round(mean_searches,2)} \\nVariance: {round(var_searches,2)}\")\n",
    "\n"
   ]
  },
  {
   "cell_type": "markdown",
   "id": "a160e9b1",
   "metadata": {},
   "source": [
    "#### Conditional distribution when 3 searches failed"
   ]
  },
  {
   "cell_type": "code",
   "execution_count": 17,
   "id": "0be4d039",
   "metadata": {},
   "outputs": [
    {
     "name": "stdout",
     "output_type": "stream",
     "text": [
      "Mean P(X>3): 1.65 \n",
      "Variance P(X>3): 1.11\n"
     ]
    }
   ],
   "source": [
    "# conditional prob p(x>3)\n",
    "\n",
    "tosuccess = searches +1\n",
    "subset_xgt3 = searches[searches > 3] - 3\n",
    "mean_cond = np.mean(subset_xgt3)\n",
    "var_cond = np.var(subset_xgt3)\n",
    "\n",
    "print(f\"Mean P(X>3): {round(mean_cond, 2)} \\nVariance P(X>3): {round(var_cond,2)}\")"
   ]
  },
  {
   "cell_type": "markdown",
   "id": "da058d5d-b754-4511-baab-5eed1106d581",
   "metadata": {},
   "source": [
    "**Remarks: It can be observed that there isn’t a a lot of difference between the two sets of parameters. Therefore, the subset can be referred to as a representative of the full set or the original distribution. The obtained values are also very close to theoretical values, as shown.**"
   ]
  },
  {
   "cell_type": "markdown",
   "id": "a0f854c0",
   "metadata": {},
   "source": [
    "#### Markov Memoryless Property"
   ]
  },
  {
   "cell_type": "markdown",
   "id": "09bcd2c4-8d07-4851-818a-a73dfa72ff55",
   "metadata": {},
   "source": [
    "According to the Markov property of geometric distribution: \\\n",
    "if X a geometric random variable, then for each integer n: **P(X = x+n | X > n) = P(X = x)**\n",
    "\n",
    "Recall: P(X = x) = q^(x−1) * p"
   ]
  },
  {
   "cell_type": "markdown",
   "id": "f4c991a9-7893-429e-9eec-3ebfc6884537",
   "metadata": {},
   "source": [
    "1. P(X = 4|X > 3) and P(X = 1) In this case, x=1 and n=3.\n",
    "\n",
    "We must take the number of instances "
   ]
  },
  {
   "cell_type": "code",
   "execution_count": 14,
   "id": "e3db51a2",
   "metadata": {},
   "outputs": [
    {
     "name": "stdout",
     "output_type": "stream",
     "text": [
      "P(X = 4|X > 3) = 0.61 \n",
      "P(X = 1) = 0.6\n",
      "\n",
      "Theoretical value of P(X = x): 0.6.\n"
     ]
    }
   ],
   "source": [
    "# theoretical\n",
    "theory = (1 - p)**0 * p\n",
    "\n",
    "\n",
    "p_xgt3 = searches[searches>3]\n",
    "p_x4 = searches[searches == 4]\n",
    "p_x4_xgt3 = len(p_x4) /len(p_xgt3)\n",
    "\n",
    "\n",
    "x1 = searches[searches == 1]\n",
    "p_x1 = len(x1) / 10000\n",
    "\n",
    "\n",
    "print(f\"P(X = 4|X > 3) = {round(p_x4_xgt3,2)} \\nP(X = 1) = {round(p_x1,2)}\")\n",
    "print(f\"\\nTheoretical value of P(X = x): {theory}.\")"
   ]
  },
  {
   "cell_type": "markdown",
   "id": "d143917f-bbda-4044-ac82-db93426f810f",
   "metadata": {},
   "source": [
    "**Remark: Because the two probabilities are nearly similar, we can say that the Markov property holds. The values are also near the theoretical value as shown.**"
   ]
  },
  {
   "cell_type": "markdown",
   "id": "28e7dac0-3cc9-4226-8088-fb29498d02d1",
   "metadata": {},
   "source": [
    "2. P(X = 5|X > 3) and P(X = 2) In this case, x=2 and n=3."
   ]
  },
  {
   "cell_type": "code",
   "execution_count": 15,
   "id": "67f13286",
   "metadata": {},
   "outputs": [
    {
     "name": "stdout",
     "output_type": "stream",
     "text": [
      "P(X = 5|X > 3) = 0.22 \n",
      "P(X = 2) = 0.24 \n",
      "\n",
      "Theoretical value of P(X = x): 0.24.\n"
     ]
    }
   ],
   "source": [
    "# theoretical\n",
    "theory = (1 - p)**1 * p\n",
    "\n",
    "p_x5 = searches[searches == 5]\n",
    "p_x5_xgt3 = len(p_x5) /len(p_xgt3)\n",
    "\n",
    "x2 = searches[searches == 2]\n",
    "p_x2 = len(x2)/10000\n",
    "\n",
    "print(f\"P(X = 5|X > 3) = {round(p_x5_xgt3,2)} \\nP(X = 2) = {round(p_x2,2)} \")\n",
    "print(f\"\\nTheoretical value of P(X = x): {theory}.\")\n"
   ]
  },
  {
   "cell_type": "markdown",
   "id": "f0f8bc92-8cfe-41eb-ba44-9c3aa2250e74",
   "metadata": {},
   "source": [
    "**Remark: Because the two probabilities are nearly similar, we can say that the Markov property holds. The values are also near the theoretical value as shown.**"
   ]
  },
  {
   "cell_type": "code",
   "execution_count": null,
   "id": "91731f4e",
   "metadata": {},
   "outputs": [],
   "source": []
  }
 ],
 "metadata": {
  "kernelspec": {
   "display_name": "Python 3 (ipykernel)",
   "language": "python",
   "name": "python3"
  },
  "language_info": {
   "codemirror_mode": {
    "name": "ipython",
    "version": 3
   },
   "file_extension": ".py",
   "mimetype": "text/x-python",
   "name": "python",
   "nbconvert_exporter": "python",
   "pygments_lexer": "ipython3",
   "version": "3.11.7"
  }
 },
 "nbformat": 4,
 "nbformat_minor": 5
}
