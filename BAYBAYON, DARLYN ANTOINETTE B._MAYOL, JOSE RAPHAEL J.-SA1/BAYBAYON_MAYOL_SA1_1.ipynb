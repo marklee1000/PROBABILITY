{
 "cells": [
  {
   "cell_type": "markdown",
   "id": "c27e1b1f-fbf8-4f33-be24-c252f7d7aee5",
   "metadata": {},
   "source": [
    "# Question 1\n",
    "A company has three factories producing a product. Factory 1 produces $x_1$ of the product, factory 2 produces $x_2$, and factory 3 produces $x_3$, where $\\sum_{i=1}^{3}x_i=1$. The defective rates of the products are $y_1$, $y_2$, and $y_3$ respectively, where $\\sum_{i=1}^{3}y_i=0.12$. Write a program (user input for $x_i$ and $y_i$) to calculate the probability that a randomly selected product is defective.\n",
    "<br><br>▪️ Note that your program should render prompt message to satisfy the following conditions:\n",
    "    <br>◦ $0.10 \\le x_i \\le 0.40$ or $10\\% \\le x_i \\le 40\\%$ and $\\sum_{i=1}^{3}x_i=1$\n",
    "    <br>◦ $0.01 \\le y_i \\le 0.05$ or $1\\% \\le x_i \\le 5\\%$ and $\\sum_{i=1}^{3}y_i=0.12$"
   ]
  },
  {
   "cell_type": "code",
   "execution_count": 7,
   "id": "950f7048-ec45-4c2a-b305-aab21495f04c",
   "metadata": {},
   "outputs": [
    {
     "name": "stdin",
     "output_type": "stream",
     "text": [
      "\n",
      "Enter Production Rate for Factory 1 (0.10 to 0.40; 1 left):  0.6\n"
     ]
    },
    {
     "name": "stdout",
     "output_type": "stream",
     "text": [
      "Amount above maximum (0.4), please enter again...\n"
     ]
    },
    {
     "name": "stdin",
     "output_type": "stream",
     "text": [
      "\n",
      "Enter Production Rate for Factory 1 (0.10 to 0.40; 1 left):  0.01\n"
     ]
    },
    {
     "name": "stdout",
     "output_type": "stream",
     "text": [
      "Amount below minimum (0.1), please enter again...\n"
     ]
    },
    {
     "name": "stdin",
     "output_type": "stream",
     "text": [
      "\n",
      "Enter Production Rate for Factory 1 (0.10 to 0.40; 1 left):  0.3\n",
      "\n",
      "Enter Defective Rate for Factory 1 (0.01 to 0.05; 0.12 left):  0.1\n"
     ]
    },
    {
     "name": "stdout",
     "output_type": "stream",
     "text": [
      "Amount above maximum (0.05), please enter again...\n"
     ]
    },
    {
     "name": "stdin",
     "output_type": "stream",
     "text": [
      "\n",
      "Enter Defective Rate for Factory 1 (0.01 to 0.05; 0.12 left):  0.001\n"
     ]
    },
    {
     "name": "stdout",
     "output_type": "stream",
     "text": [
      "Amount below minimum (0.01), please enter again...\n"
     ]
    },
    {
     "name": "stdin",
     "output_type": "stream",
     "text": [
      "\n",
      "Enter Defective Rate for Factory 1 (0.01 to 0.05; 0.12 left):  0.03\n",
      "\n",
      "Enter Production Rate for Factory 2 (0.10 to 0.40; 0.7 left):  0.23\n",
      "\n",
      "Enter Defective Rate for Factory 2 (0.01 to 0.05; 0.09 left):  0.0497\n"
     ]
    },
    {
     "name": "stdout",
     "output_type": "stream",
     "text": [
      "\n",
      "Production Rates:  [0.3, 0.23, 0.47]\n",
      "Defective Rates:  [0.03, 0.0497, 0.0403] \n",
      "\n",
      "\n",
      "Probability that a product is defective: 0.039372 or 3.9372%\n"
     ]
    }
   ],
   "source": [
    "from decimal import *\n",
    "\n",
    "prod_rates = []\n",
    "defect_rates = []\n",
    "max_prod = Decimal('1')\n",
    "max_defect = Decimal('0.12')\n",
    "\n",
    "i=1\n",
    "for x in range(3):\n",
    "    while max_prod > 0:\n",
    "        if i == 3:\n",
    "            prod_in = max_prod\n",
    "            max_prod -= prod_in\n",
    "            prod_rates.append(float(prod_in))\n",
    "            break\n",
    "        else:\n",
    "            prod_in = Decimal(input(f\"\\nEnter Production Rate for Factory {i} (0.10 to 0.40; {max_prod} left): \"))\n",
    "            if (prod_in <= max_prod) and (prod_in >= 0.1) and (prod_in <= 0.4):\n",
    "                max_prod -= prod_in\n",
    "                prod_rates.append(float(prod_in))\n",
    "                break\n",
    "            else:\n",
    "                if (prod_in > max_prod):\n",
    "                    print(\"Input beyond remaining amount, please enter again...\")\n",
    "                elif (prod_in < 0.1):\n",
    "                    print(\"Amount below minimum (0.1), please enter again...\")\n",
    "                elif (prod_in > 0.4):\n",
    "                    print(\"Amount above maximum (0.4), please enter again...\")\n",
    "    while max_defect > 0:\n",
    "        if i == 3:\n",
    "            defect_in = max_defect\n",
    "            max_defect -= defect_in\n",
    "            defect_rates.append(float(defect_in))\n",
    "            break\n",
    "        else:\n",
    "            defect_in = Decimal(input(f\"\\nEnter Defective Rate for Factory {i} (0.01 to 0.05; {max_defect} left): \"))\n",
    "            if (defect_in <= max_defect) and (defect_in >= 0.01) and (defect_in <= 0.05):\n",
    "                max_defect -= defect_in\n",
    "                defect_rates.append(float(defect_in))\n",
    "                break\n",
    "            else:\n",
    "                if (defect_in > max_defect):\n",
    "                    print(\"Input beyond remaining amount, please enter again...\")\n",
    "                elif (defect_in < 0.01):\n",
    "                    print(\"Amount below minimum (0.01), please enter again...\")\n",
    "                elif (defect_in > 0.05):\n",
    "                    print(\"Amount above maximum (0.05), please enter again...\")\n",
    "    i+=1\n",
    "\n",
    "while len(prod_rates) < 3:\n",
    "    prod_rates.append(float(0))\n",
    "while len(defect_rates) < 3:\n",
    "    defect_rates.append(float(0))\n",
    "\n",
    "print(\"\\nProduction Rates: \",prod_rates)\n",
    "print(\"Defective Rates: \",defect_rates,\"\\n\\n\")\n",
    "\n",
    "defect_prob = 0; j = 0\n",
    "for x in range(3):\n",
    "    indiv_prob = prod_rates[j] * defect_rates[j]\n",
    "    defect_prob += indiv_prob\n",
    "    j += 1\n",
    "print(f\"Probability that a product is defective: {defect_prob} or {defect_prob * 100}%\")"
   ]
  },
  {
   "cell_type": "markdown",
   "id": "21bf31f2-54d9-4566-b170-071d5f65a8be",
   "metadata": {},
   "source": [
    "<br><br>\n",
    "The code starts with the declaration of the arrays representing the production and defective rates of the three factories. Next, we declared the maximum value for the total production probability (1) and total defective probability (0.12). __NOTE:__ These two values use the Decimal module to ensure that proper arithmetic is executed for exact float numbers (e.g. 0.25, 0.54, etc.) since the default float type can have problems in this aspect.\n",
    "\n",
    "This program allows the user to input their desired values for the production and defective rates of three different factories producing a product. It also comes with data validation features, namely the following:\n",
    "\n",
    "- The input prompt __shows the remaining amount or \"balance\"__ they have, bounded by the maximum probability and defective rates assigned by the question.\n",
    "- If the entered value exceeds the \"balance\" or is beyond the bounds imposed, __a message will appear__ depending on the error and they will be asked to enter again. This process will loop indefinitely until the user inputs a valid amount.\n",
    "- After inputting the values for the second factory, the values for the third factory will already be __calculated automatically__ and thus the user will not be asked to input again.\n",
    "\n",
    "After the inputting section, the program will display two arrays showing every value they have entered. To calculate the total probability that a product is defective, every production rate will be multiplied with their corresponding defective rates. These values are then added to get the final defective probability."
   ]
  },
  {
   "cell_type": "code",
   "execution_count": null,
   "id": "a6ce3436-43e6-4e70-8449-2ff0909bc722",
   "metadata": {},
   "outputs": [],
   "source": []
  }
 ],
 "metadata": {
  "kernelspec": {
   "display_name": "Python 3 (ipykernel)",
   "language": "python",
   "name": "python3"
  },
  "language_info": {
   "codemirror_mode": {
    "name": "ipython",
    "version": 3
   },
   "file_extension": ".py",
   "mimetype": "text/x-python",
   "name": "python",
   "nbconvert_exporter": "python",
   "pygments_lexer": "ipython3",
   "version": "3.11.7"
  }
 },
 "nbformat": 4,
 "nbformat_minor": 5
}
